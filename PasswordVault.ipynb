{
  "cells": [
    {
      "cell_type": "code",
      "source": [
        "# Install Dependencies & Imports\n",
        "\n",
        "!pip install cryptography\n",
        "\n",
        "import json\n",
        "import os\n",
        "import secrets\n",
        "import string\n",
        "import hashlib\n",
        "from cryptography.fernet import Fernet\n",
        "from cryptography.hazmat.primitives import hashes\n",
        "from cryptography.hazmat.primitives.kdf.pbkdf2 import PBKDF2HMAC\n",
        "import base64\n",
        "from datetime import datetime\n",
        "\n",
        "print(\"✅ Dependencies installed and imported!\")"
      ],
      "metadata": {
        "colab": {
          "base_uri": "https://localhost:8080/"
        },
        "id": "rdhweN-bWkAr",
        "outputId": "4e8f595f-4fed-4b8d-d784-28be23a13dbd"
      },
      "execution_count": 72,
      "outputs": [
        {
          "output_type": "stream",
          "name": "stdout",
          "text": [
            "Requirement already satisfied: cryptography in /usr/local/lib/python3.11/dist-packages (43.0.3)\n",
            "Requirement already satisfied: cffi>=1.12 in /usr/local/lib/python3.11/dist-packages (from cryptography) (1.17.1)\n",
            "Requirement already satisfied: pycparser in /usr/local/lib/python3.11/dist-packages (from cffi>=1.12->cryptography) (2.22)\n",
            "✅ Dependencies installed and imported!\n"
          ]
        }
      ]
    },
    {
      "cell_type": "code",
      "source": [
        "# PassVault Class Definition\n",
        "\n",
        "class PassVaultColab:\n",
        "    def __init__(self):\n",
        "        self.vault_file = \"passvault_colab.json\"\n",
        "        self.key_file = \"vault_colab.key\"\n",
        "        self.fernet = None\n",
        "        self.session_authenticated = False\n",
        "\n",
        "    def generate_key_from_password(self, password: str, salt: bytes = None) -> tuple:\n",
        "        \"\"\"Generate encryption key from master password\"\"\"\n",
        "        if salt is None:\n",
        "            salt = os.urandom(16)\n",
        "\n",
        "        kdf = PBKDF2HMAC(\n",
        "            algorithm=hashes.SHA256(),\n",
        "            length=32,\n",
        "            salt=salt,\n",
        "            iterations=100000,\n",
        "        )\n",
        "        key = base64.urlsafe_b64encode(kdf.derive(password.encode()))\n",
        "        return key, salt\n",
        "\n",
        "    def setup_master_password(self):\n",
        "        \"\"\"Setup master password for first-time use\"\"\"\n",
        "        print(\"🔒 Welcome to PassVault (Colab Edition)!\")\n",
        "        print(\"Setting up your master password...\")\n",
        "\n",
        "        while True:\n",
        "            password = input(\"Create a master password (min 6 chars): \")\n",
        "            confirm = input(\"Confirm master password: \")\n",
        "\n",
        "            if password == confirm and len(password) >= 6:\n",
        "                break\n",
        "            elif len(password) < 6:\n",
        "                print(\"❌ Password must be at least 6 characters long!\")\n",
        "            else:\n",
        "                print(\"❌ Passwords don't match!\")\n",
        "\n",
        "        # Generate key and salt\n",
        "        key, salt = self.generate_key_from_password(password)\n",
        "        self.fernet = Fernet(key)\n",
        "\n",
        "        # Store salt and password hash\n",
        "        password_hash = hashlib.sha256(password.encode()).hexdigest()\n",
        "        key_data = {\n",
        "            \"salt\": base64.b64encode(salt).decode(),\n",
        "            \"password_hash\": password_hash\n",
        "        }\n",
        "\n",
        "        with open(self.key_file, 'w') as f:\n",
        "            json.dump(key_data, f)\n",
        "\n",
        "        # Create empty vault\n",
        "        self.save_vault({})\n",
        "        print(\"✅ Master password set successfully!\")\n",
        "        self.session_authenticated = True\n",
        "        return True\n",
        "\n",
        "    def authenticate(self):\n",
        "        \"\"\"Authenticate user with master password\"\"\"\n",
        "        if self.session_authenticated:\n",
        "            return True\n",
        "\n",
        "        if not os.path.exists(self.key_file):\n",
        "            return self.setup_master_password()\n",
        "\n",
        "        with open(self.key_file, 'r') as f:\n",
        "            key_data = json.load(f)\n",
        "\n",
        "        salt = base64.b64decode(key_data[\"salt\"])\n",
        "        stored_hash = key_data[\"password_hash\"]\n",
        "\n",
        "        attempts = 3\n",
        "        while attempts > 0:\n",
        "            password = input(\"Enter master password: \")\n",
        "            password_hash = hashlib.sha256(password.encode()).hexdigest()\n",
        "\n",
        "            if password_hash == stored_hash:\n",
        "                key, _ = self.generate_key_from_password(password, salt)\n",
        "                self.fernet = Fernet(key)\n",
        "                print(\"✅ Authentication successful!\")\n",
        "                self.session_authenticated = True\n",
        "                return True\n",
        "            else:\n",
        "                attempts -= 1\n",
        "                if attempts > 0:\n",
        "                    print(f\"❌ Incorrect password! {attempts} attempts remaining.\")\n",
        "                else:\n",
        "                    print(\"❌ Too many failed attempts.\")\n",
        "                    return False\n",
        "\n",
        "        return False\n",
        "\n",
        "    def load_vault(self):\n",
        "        \"\"\"Load and decrypt vault data\"\"\"\n",
        "        if not os.path.exists(self.vault_file):\n",
        "            return {}\n",
        "\n",
        "        try:\n",
        "            with open(self.vault_file, 'rb') as f:\n",
        "                encrypted_data = f.read()\n",
        "\n",
        "            if not encrypted_data:\n",
        "                return {}\n",
        "\n",
        "            decrypted_data = self.fernet.decrypt(encrypted_data)\n",
        "            return json.loads(decrypted_data.decode())\n",
        "        except Exception as e:\n",
        "            print(f\"❌ Error loading vault: {e}\")\n",
        "            return {}\n",
        "\n",
        "    def save_vault(self, data):\n",
        "        \"\"\"Encrypt and save vault data\"\"\"\n",
        "        try:\n",
        "            json_data = json.dumps(data, indent=2)\n",
        "            encrypted_data = self.fernet.encrypt(json_data.encode())\n",
        "\n",
        "            with open(self.vault_file, 'wb') as f:\n",
        "                f.write(encrypted_data)\n",
        "            return True\n",
        "        except Exception as e:\n",
        "            print(f\"❌ Error saving vault: {e}\")\n",
        "            return False\n",
        "\n",
        "    def generate_password(self, length=12, include_symbols=True):\n",
        "        \"\"\"Generate a secure random password\"\"\"\n",
        "        chars = string.ascii_letters + string.digits\n",
        "        if include_symbols:\n",
        "            chars += \"!@#$%^&*()_+-=[]{}|;:,.<>?\"\n",
        "\n",
        "        password = ''.join(secrets.choice(chars) for _ in range(length))\n",
        "        return password\n",
        "\n",
        "    def check_password_strength(self, password):\n",
        "        \"\"\"Basic password strength checker\"\"\"\n",
        "        score = 0\n",
        "        feedback = []\n",
        "\n",
        "        if len(password) >= 8:\n",
        "            score += 1\n",
        "        else:\n",
        "            feedback.append(\"Use at least 8 characters\")\n",
        "\n",
        "        if any(c.islower() for c in password):\n",
        "            score += 1\n",
        "        else:\n",
        "            feedback.append(\"Include lowercase letters\")\n",
        "\n",
        "        if any(c.isupper() for c in password):\n",
        "            score += 1\n",
        "        else:\n",
        "            feedback.append(\"Include uppercase letters\")\n",
        "\n",
        "        if any(c.isdigit() for c in password):\n",
        "            score += 1\n",
        "        else:\n",
        "            feedback.append(\"Include numbers\")\n",
        "\n",
        "        if any(c in \"!@#$%^&*()_+-=[]{}|;:,.<>?\" for c in password):\n",
        "            score += 1\n",
        "        else:\n",
        "            feedback.append(\"Include special characters\")\n",
        "\n",
        "        strength_levels = [\"Very Weak\", \"Weak\", \"Fair\", \"Good\", \"Strong\"]\n",
        "        strength = strength_levels[min(score, 4)]\n",
        "\n",
        "        return strength, feedback\n",
        "\n",
        "print(\"✅ PassVault class defined!\")"
      ],
      "metadata": {
        "colab": {
          "base_uri": "https://localhost:8080/"
        },
        "id": "Q4-GUF0CWj3k",
        "outputId": "94a3b1ad-31ab-4a3f-86ec-29110dd30b72"
      },
      "execution_count": 73,
      "outputs": [
        {
          "output_type": "stream",
          "name": "stdout",
          "text": [
            "✅ PassVault class defined!\n"
          ]
        }
      ]
    },
    {
      "cell_type": "code",
      "source": [
        "# Initialize Vault & Authentication\n",
        "\n",
        "# Create vault instance\n",
        "vault = PassVaultColab()\n",
        "\n",
        "print(\"🔒 PassVault - Google Colab Edition\")\n",
        "print(\"=\" * 50)\n",
        "print(\"⚠️ IMPORTANT COLAB NOTES:\")\n",
        "print(\"• Passwords will be visible when typing (Colab limitation)\")\n",
        "print(\"• Files are temporary - download them to save permanently\")\n",
        "print(\"=\" * 50)\n",
        "\n",
        "# Authenticate\n",
        "if vault.authenticate():\n",
        "    print(\"\\n✅ Vault initialized successfully!\")\n",
        "else:\n",
        "    print(\"❌ Authentication failed!\")\n"
      ],
      "metadata": {
        "colab": {
          "base_uri": "https://localhost:8080/"
        },
        "id": "q1DT4pS2WjuW",
        "outputId": "fc36bf91-256c-4077-923f-27d41b7538d0"
      },
      "execution_count": 85,
      "outputs": [
        {
          "output_type": "stream",
          "name": "stdout",
          "text": [
            "🔒 PassVault - Google Colab Edition\n",
            "==================================================\n",
            "⚠️ IMPORTANT COLAB NOTES:\n",
            "• Passwords will be visible when typing (Colab limitation)\n",
            "• Files are temporary - download them to save permanently\n",
            "==================================================\n",
            "Enter master password: Debanga1234@\n",
            "✅ Authentication successful!\n",
            "\n",
            "✅ Vault initialized successfully!\n"
          ]
        }
      ]
    },
    {
      "cell_type": "code",
      "source": [
        "# Add Password Function\n",
        "\n",
        "def add_password():\n",
        "    \"\"\"Add a new password entry\"\"\"\n",
        "    if not vault.session_authenticated:\n",
        "        print(\"❌ Please authenticate first by running Block 3!\")\n",
        "        return\n",
        "\n",
        "    print(\"\\n➕ Add New Password Entry\")\n",
        "\n",
        "    website = input(\"Website/Service name: \").strip()\n",
        "    if not website:\n",
        "        print(\"❌ Website name cannot be empty!\")\n",
        "        return\n",
        "\n",
        "    username = input(\"Username/Email: \").strip()\n",
        "\n",
        "    # Option to generate password\n",
        "    choice = input(\"Generate secure password? (y/n): \").lower()\n",
        "    if choice == 'y':\n",
        "        length = input(\"Password length (default 12): \").strip()\n",
        "        length = int(length) if length.isdigit() else 12\n",
        "\n",
        "        symbols = input(\"Include symbols? (y/n): \").lower() == 'y'\n",
        "        password = vault.generate_password(length, symbols)\n",
        "        print(f\"Generated password: {password}\")\n",
        "    else:\n",
        "        print(\"⚠️ Note: Your password will be visible in Colab\")\n",
        "        password = input(\"Enter password: \")\n",
        "\n",
        "    # Check password strength\n",
        "    strength, feedback = vault.check_password_strength(password)\n",
        "    print(f\"Password strength: {strength}\")\n",
        "    if feedback:\n",
        "        print(\"Suggestions:\", \", \".join(feedback))\n",
        "\n",
        "    # Save to vault\n",
        "    vault_data = vault.load_vault()\n",
        "\n",
        "    if website in vault_data:\n",
        "        overwrite = input(f\"Entry for '{website}' exists. Overwrite? (y/n): \")\n",
        "        if overwrite.lower() != 'y':\n",
        "            print(\"❌ Operation cancelled.\")\n",
        "            return\n",
        "\n",
        "    vault_data[website] = {\n",
        "        \"username\": username,\n",
        "        \"password\": password,\n",
        "        \"created\": datetime.now().strftime(\"%Y-%m-%d %H:%M:%S\")\n",
        "    }\n",
        "\n",
        "    if vault.save_vault(vault_data):\n",
        "        print(\"✅ Password saved successfully!\")\n",
        "    else:\n",
        "        print(\"❌ Failed to save password!\")\n",
        "\n",
        "print(\"📝 add_password() function ready!\")\n",
        "print(\"Usage: add_password()\")"
      ],
      "metadata": {
        "colab": {
          "base_uri": "https://localhost:8080/"
        },
        "id": "pRrnoBzPWp1x",
        "outputId": "6f22193e-5158-4e8b-9a80-57f0e91f2ce3"
      },
      "execution_count": 75,
      "outputs": [
        {
          "output_type": "stream",
          "name": "stdout",
          "text": [
            "📝 add_password() function ready!\n",
            "Usage: add_password()\n"
          ]
        }
      ]
    },
    {
      "cell_type": "code",
      "source": [
        "# Get Password Function\n",
        "\n",
        "def get_password():\n",
        "    \"\"\"Retrieve stored passwords\"\"\"\n",
        "    if not vault.session_authenticated:\n",
        "        print(\"❌ Please authenticate first by running Block 3!\")\n",
        "        return\n",
        "\n",
        "    print(\"\\n🔍 Retrieve Password\")\n",
        "\n",
        "    vault_data = vault.load_vault()\n",
        "    if not vault_data:\n",
        "        print(\"❌ No passwords stored yet!\")\n",
        "        return\n",
        "\n",
        "    search = input(\"Enter website name or username to search: \").strip().lower()\n",
        "\n",
        "    matches = []\n",
        "    for website, data in vault_data.items():\n",
        "        if (search in website.lower() or\n",
        "            search in data.get(\"username\", \"\").lower()):\n",
        "            matches.append((website, data))\n",
        "\n",
        "    if not matches:\n",
        "        print(\"❌ No matching entries found!\")\n",
        "        return\n",
        "\n",
        "    print(f\"\\n📋 Found {len(matches)} match(es):\")\n",
        "    for i, (website, data) in enumerate(matches, 1):\n",
        "        print(f\"\\n{i}. Website: {website}\")\n",
        "        print(f\"   Username: {data.get('username', 'N/A')}\")\n",
        "        print(f\"   Created: {data.get('created', 'Unknown')}\")\n",
        "\n",
        "        show_pass = input(\"   Show password? (y/n): \").lower()\n",
        "        if show_pass == 'y':\n",
        "            print(f\"   Password: {data['password']}\")\n",
        "\n",
        "print(\"🔍 get_password() function ready!\")\n",
        "print(\"Usage: get_password()\")\n"
      ],
      "metadata": {
        "colab": {
          "base_uri": "https://localhost:8080/"
        },
        "id": "1TLcesqAWpl8",
        "outputId": "2ca4ce13-c904-4771-fdfc-2e03ffee3db6"
      },
      "execution_count": 76,
      "outputs": [
        {
          "output_type": "stream",
          "name": "stdout",
          "text": [
            "🔍 get_password() function ready!\n",
            "Usage: get_password()\n"
          ]
        }
      ]
    },
    {
      "cell_type": "code",
      "source": [
        "# List All Passwords Function\n",
        "\n",
        "def list_all_passwords():\n",
        "    \"\"\"List all stored accounts\"\"\"\n",
        "    if not vault.session_authenticated:\n",
        "        print(\"❌ Please authenticate first by running Block 3!\")\n",
        "        return\n",
        "\n",
        "    print(\"\\n📋 All Stored Accounts\")\n",
        "\n",
        "    vault_data = vault.load_vault()\n",
        "    if not vault_data:\n",
        "        print(\"❌ No passwords stored yet!\")\n",
        "        return\n",
        "\n",
        "    print(f\"Total accounts: {len(vault_data)}\\n\")\n",
        "    for i, (website, data) in enumerate(vault_data.items(), 1):\n",
        "        print(f\"{i}. {website}\")\n",
        "        print(f\"   Username: {data.get('username', 'N/A')}\")\n",
        "        print(f\"   Created: {data.get('created', 'Unknown')}\")\n",
        "        print()\n",
        "\n",
        "print(\"📋 list_all_passwords() function ready!\")\n",
        "print(\"Usage: list_all_passwords()\")"
      ],
      "metadata": {
        "colab": {
          "base_uri": "https://localhost:8080/"
        },
        "id": "OiAXTmggWpei",
        "outputId": "01744806-c81f-4431-9712-1e292af1bb39"
      },
      "execution_count": 77,
      "outputs": [
        {
          "output_type": "stream",
          "name": "stdout",
          "text": [
            "📋 list_all_passwords() function ready!\n",
            "Usage: list_all_passwords()\n"
          ]
        }
      ]
    },
    {
      "cell_type": "code",
      "source": [
        "# Generate Password Function\n",
        "\n",
        "def generate_password_only():\n",
        "    \"\"\"Generate password without saving\"\"\"\n",
        "    print(\"\\n🎲 Password Generator\")\n",
        "\n",
        "    length = input(\"Password length (default 12): \").strip()\n",
        "    length = int(length) if length.isdigit() else 12\n",
        "\n",
        "    symbols = input(\"Include symbols? (y/n): \").lower() == 'y'\n",
        "\n",
        "    password = vault.generate_password(length, symbols)\n",
        "    print(f\"\\nGenerated password: {password}\")\n",
        "\n",
        "    strength, feedback = vault.check_password_strength(password)\n",
        "    print(f\"Strength: {strength}\")\n",
        "    if feedback:\n",
        "        print(\"Suggestions:\", \", \".join(feedback))\n",
        "\n",
        "def quick_generate(length=12, symbols=True):\n",
        "    \"\"\"Quick password generation\"\"\"\n",
        "    password = vault.generate_password(length, symbols)\n",
        "    print(f\"Password: {password}\")\n",
        "    return password\n",
        "\n",
        "print(\"🎲 Password generation functions ready!\")\n",
        "print(\"Usage: generate_password_only() or quick_generate()\")"
      ],
      "metadata": {
        "colab": {
          "base_uri": "https://localhost:8080/"
        },
        "id": "BcaOaaKWWpUy",
        "outputId": "349c8c1d-dd78-489e-9b63-99b39223c4aa"
      },
      "execution_count": 78,
      "outputs": [
        {
          "output_type": "stream",
          "name": "stdout",
          "text": [
            "🎲 Password generation functions ready!\n",
            "Usage: generate_password_only() or quick_generate()\n"
          ]
        }
      ]
    },
    {
      "cell_type": "code",
      "source": [
        "# Delete Password Function\n",
        "\n",
        "def delete_password():\n",
        "    \"\"\"Delete a password entry\"\"\"\n",
        "    if not vault.session_authenticated:\n",
        "        print(\"❌ Please authenticate first by running Block 3!\")\n",
        "        return\n",
        "\n",
        "    print(\"\\n🗑️ Delete Password Entry\")\n",
        "\n",
        "    vault_data = vault.load_vault()\n",
        "    if not vault_data:\n",
        "        print(\"❌ No passwords stored yet!\")\n",
        "        return\n",
        "\n",
        "    website = input(\"Enter website name to delete: \").strip()\n",
        "\n",
        "    if website not in vault_data:\n",
        "        print(\"❌ Website not found!\")\n",
        "        return\n",
        "\n",
        "    print(f\"Entry to delete:\")\n",
        "    print(f\"Website: {website}\")\n",
        "    print(f\"Username: {vault_data[website].get('username', 'N/A')}\")\n",
        "\n",
        "    confirm = input(\"Type 'DELETE' to confirm deletion: \")\n",
        "    if confirm == 'DELETE':\n",
        "        del vault_data[website]\n",
        "        if vault.save_vault(vault_data):\n",
        "            print(\"✅ Entry deleted successfully!\")\n",
        "        else:\n",
        "            print(\"❌ Failed to delete entry!\")\n",
        "    else:\n",
        "        print(\"❌ Deletion cancelled.\")\n",
        "\n",
        "print(\"🗑️ delete_password() function ready!\")\n",
        "print(\"Usage: delete_password()\")"
      ],
      "metadata": {
        "colab": {
          "base_uri": "https://localhost:8080/"
        },
        "id": "Zc_NeaOMWjgJ",
        "outputId": "f428979e-ade5-49af-ed69-d35ef3c36936"
      },
      "execution_count": 79,
      "outputs": [
        {
          "output_type": "stream",
          "name": "stdout",
          "text": [
            "🗑️ delete_password() function ready!\n",
            "Usage: delete_password()\n"
          ]
        }
      ]
    },
    {
      "cell_type": "code",
      "source": [
        "# Utility Functions\n",
        "\n",
        "def show_vault_status():\n",
        "    \"\"\"Show vault status and files\"\"\"\n",
        "    print(f\"\\n📊 Vault Status:\")\n",
        "    print(f\"Authenticated: {vault.session_authenticated}\")\n",
        "\n",
        "    if vault.session_authenticated:\n",
        "        vault_data = vault.load_vault()\n",
        "        print(f\"Total entries: {len(vault_data)}\")\n",
        "\n",
        "        if vault_data:\n",
        "            print(\"Stored accounts:\")\n",
        "            for website in vault_data.keys():\n",
        "                print(f\"  • {website}\")\n",
        "\n",
        "    # Show files\n",
        "    print(f\"\\n📁 Vault Files:\")\n",
        "    vault_files = [f for f in os.listdir('.') if f.startswith('vault') or f.startswith('passvault')]\n",
        "    if vault_files:\n",
        "        for f in vault_files:\n",
        "            size = os.path.getsize(f)\n",
        "            print(f\"  {f} ({size} bytes)\")\n",
        "    else:\n",
        "        print(\"  No vault files found\")\n",
        "\n",
        "def download_files():\n",
        "    \"\"\"Download vault files for backup\"\"\"\n",
        "    print(\"\\n💾 Download Instructions:\")\n",
        "    print(\"1. Check the file manager on the left sidebar\")\n",
        "    print(\"2. Right-click on vault files and select 'Download'\")\n",
        "    print(\"\\nImportant: Save these files to restore your vault later!\")\n",
        "\n",
        "    show_vault_status()\n",
        "\n",
        "    # Create a backup info file\n",
        "    with open(\"BACKUP_INFO.txt\", \"w\") as f:\n",
        "        f.write(\"PassVault Backup Files\\n\")\n",
        "        f.write(\"=\" * 30 + \"\\n\")\n",
        "        f.write(\"Files to backup:\\n\")\n",
        "        f.write(\"1. passvault_colab.json (encrypted passwords)\\n\")\n",
        "        f.write(\"2. vault_colab.key (encryption key info)\\n\")\n",
        "        f.write(\"\\nTo restore:\\n\")\n",
        "        f.write(\"1. Upload both files to a new Colab session\\n\")\n",
        "        f.write(\"2. Run the PassVault code blocks\\n\")\n",
        "        f.write(\"3. Use your master password to authenticate\\n\")\n",
        "\n",
        "    print(\"✅ Created BACKUP_INFO.txt with instructions\")\n",
        "\n",
        "print(\"🛠️ Utility functions ready!\")\n",
        "print(\"Usage: show_vault_status(), download_files()\")"
      ],
      "metadata": {
        "colab": {
          "base_uri": "https://localhost:8080/"
        },
        "id": "WSjhQfq3Xa0n",
        "outputId": "1dc32a7d-5c50-4ed9-9d37-37794e1b12b8"
      },
      "execution_count": 80,
      "outputs": [
        {
          "output_type": "stream",
          "name": "stdout",
          "text": [
            "🛠️ Utility functions ready!\n",
            "Usage: show_vault_status(), download_files()\n"
          ]
        }
      ]
    },
    {
      "cell_type": "code",
      "source": [
        "# Quick Usage Guide\n",
        "\n",
        "def show_help():\n",
        "    \"\"\"Show available functions\"\"\"\n",
        "    print(\"\\n🔒 PassVault - Available Functions:\")\n",
        "    print(\"=\" * 40)\n",
        "    print(\"📝 add_password()           - Add new password\")\n",
        "    print(\"🔍 get_password()           - Find & retrieve password\")\n",
        "    print(\"📋 list_all_passwords()     - Show all accounts\")\n",
        "    print(\"🎲 generate_password_only() - Generate password only\")\n",
        "    print(\"🎲 quick_generate()         - Quick password generation\")\n",
        "    print(\"🗑️ delete_password()        - Delete password entry\")\n",
        "    print(\"📊 show_vault_status()      - Show vault status\")\n",
        "    print(\"💾 download_files()         - Backup vault files\")\n",
        "    print(\"❓ show_help()              - Show this help\")\n",
        "    print(\"=\" * 40)\n",
        "    print(\"\\n💡 Quick Start:\")\n",
        "    print(\"1. add_password()      # Add your first password\")\n",
        "    print(\"2. list_all_passwords() # See what's stored\")\n",
        "    print(\"3. get_password()      # Retrieve a password\")\n",
        "\n",
        "show_help()"
      ],
      "metadata": {
        "colab": {
          "base_uri": "https://localhost:8080/"
        },
        "id": "h6ykESj_Xapa",
        "outputId": "c0f583ed-ffa6-4a43-bad2-9c703c8ed05b"
      },
      "execution_count": 87,
      "outputs": [
        {
          "output_type": "stream",
          "name": "stdout",
          "text": [
            "\n",
            "🔒 PassVault - Available Functions:\n",
            "========================================\n",
            "📝 add_password()           - Add new password\n",
            "🔍 get_password()           - Find & retrieve password\n",
            "📋 list_all_passwords()     - Show all accounts\n",
            "🎲 generate_password_only() - Generate password only\n",
            "🎲 quick_generate()         - Quick password generation\n",
            "🗑️ delete_password()        - Delete password entry\n",
            "📊 show_vault_status()      - Show vault status\n",
            "💾 download_files()         - Backup vault files\n",
            "❓ show_help()              - Show this help\n",
            "========================================\n",
            "\n",
            "💡 Quick Start:\n",
            "1. add_password()      # Add your first password\n",
            "2. list_all_passwords() # See what's stored\n",
            "3. get_password()      # Retrieve a password\n"
          ]
        }
      ]
    }
  ],
  "metadata": {
    "colab": {
      "provenance": []
    },
    "kernelspec": {
      "display_name": "Python 3",
      "name": "python3"
    }
  },
  "nbformat": 4,
  "nbformat_minor": 0
}